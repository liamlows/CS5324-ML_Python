{
 "cells": [
  {
   "cell_type": "markdown",
   "metadata": {},
   "source": [
    "# Lab 7 - Recurrent Neural Networks\n",
    "##### By. Liam Lowsley-Williams & Fernando Vazquez"
   ]
  },
  {
   "cell_type": "markdown",
   "metadata": {},
   "source": [
    "## Business Understanding\n",
    "\n",
    "Dataset - https://www.kaggle.com/shitalkat/amazonearphonesreviews"
   ]
  },
  {
   "cell_type": "markdown",
   "metadata": {},
   "source": [
    "### Introduction"
   ]
  },
  {
   "cell_type": "markdown",
   "metadata": {},
   "source": [
    "For this lab, we decided to choose the Amazon Earphones Reviews dataset from Kaggle. This dataset consists of 14,337 reviews of 10 different bluetooth earphones. The Reviews contain a title, body, and ranking. The ranking is evaluated as being 1 through 5, 1 being poor and 5 being excellent. The earphones are the latest devices released in the market as of mid-2019. We plan to use this dataset to provide sentiment analysis for product reviews which then could be expanded to a targeted market area. Even further expansion could be targeted sentiment analysis on any category of consumer products."
   ]
  },
  {
   "cell_type": "markdown",
   "metadata": {},
   "source": [
    "### Motivations"
   ]
  },
  {
   "cell_type": "markdown",
   "metadata": {},
   "source": [
    "Our motivations for this business case mentioned above stem from primarily from the topic of sentiment analysis. Sentiment analysis is one of the topics in machine learning that can be classified fairly accurately given good data to train on. Thus, given we are classifying the review score of a given review via the text, sentiment obviously plays a role here. We hope to be able to classify the sentiment of a given review in a targeted fashion (as we are dealing with technology-related products) such that we can make a fairly accurate prediction on the sentiment. \n",
    "\n",
    "More specifically as a business case, we hope to be able to use this classifier to analyze text based reviews on products and make an accurate prediction of the sentiment/rank of that review. The reason we are interested in this is because with the age of personal blogs and websites that performs reviews on products, not all come with a ranking score, or, the ranking score is not standardized. Since our analyzer is purely based on text, we hope to train it to recognize positive, neutral, and negative reviews and classify them as such accurately. This process could then be automated and coupled with a web crawler to provide a general market analysis on the success of a given product. This would give companies insight on their products more quickly and efficiently than a marketing analyst could ever do and could result in saved time and money. \n",
    "\n",
    "In addition, we also make the case that this type of analyzer could be expanded to any other product category as well. In particular, clothing or consumer appliances could be areas of interest to use such an analyzer. This would obviously need custom tailored training given the product category/type.\n"
   ]
  },
  {
   "cell_type": "markdown",
   "metadata": {},
   "source": [
    "### Objectives"
   ]
  },
  {
   "cell_type": "markdown",
   "metadata": {},
   "source": [
    "Our objective for this use case is to have our performance metric, accuracy (more on this later), be at least greater than <b>85%</b> to be useful. Ideally, we would want as high an accuracy as possible, however, with text based data, we expect to see a bit lower accuracy as it is one of the harder areas to make a prediction. This is due to the fact that the english language can take on a vast number of different combinations that eventually equate to the same meaning. Thus, an accuracy of above <b>85%</b> is pretty good, and accuracy above <b>90%</b> is good, and and accuracy above <b>95%</b> is state of the art. "
   ]
  },
  {
   "cell_type": "markdown",
   "metadata": {},
   "source": [
    "### Evaluation"
   ]
  },
  {
   "cell_type": "markdown",
   "metadata": {},
   "source": []
  },
  {
   "cell_type": "markdown",
   "metadata": {},
   "source": [
    "## Init"
   ]
  },
  {
   "cell_type": "code",
   "execution_count": 1,
   "metadata": {},
   "outputs": [
    {
     "name": "stdout",
     "output_type": "stream",
     "text": [
      "TensorFlow Version: 2.0.0\n",
      "Default GPU Device: /device:GPU:0\n"
     ]
    }
   ],
   "source": [
    "from distutils.version import LooseVersion\n",
    "import warnings\n",
    "import tensorflow as tf\n",
    "\n",
    "# Check TensorFlow Version\n",
    "assert LooseVersion(tf.__version__) >= LooseVersion('1.0'), 'Please use TensorFlow version 1.0 or newer.  You are using {}'.format(tf.__version__)\n",
    "print('TensorFlow Version: {}'.format(tf.__version__))\n",
    "\n",
    "# Check for a GPU\n",
    "if not tf.test.gpu_device_name():\n",
    "    warnings.warn('No GPU found. Please ensure you have installed TensorFlow correctly')\n",
    "else:\n",
    "    print('Default GPU Device: {}'.format(tf.test.gpu_device_name()))"
   ]
  },
  {
   "cell_type": "code",
   "execution_count": 2,
   "metadata": {},
   "outputs": [
    {
     "name": "stderr",
     "output_type": "stream",
     "text": [
      "Using TensorFlow backend.\n"
     ]
    },
    {
     "data": {
      "text/plain": [
       "'2.3.1'"
      ]
     },
     "execution_count": 2,
     "metadata": {},
     "output_type": "execute_result"
    }
   ],
   "source": [
    "import keras\n",
    "from keras.preprocessing.text import Tokenizer\n",
    "from keras.preprocessing.sequence import pad_sequences\n",
    "from keras.models import Sequential, Input, Model\n",
    "from keras.layers import Dense\n",
    "from keras.layers import SimpleRNN, LSTM, GRU\n",
    "from keras.layers.embeddings import Embedding\n",
    "from keras.callbacks import EarlyStopping\n",
    "\n",
    "from sklearn import metrics as mt\n",
    "from matplotlib import pyplot as plt\n",
    "%matplotlib inline\n",
    "\n",
    "import pickle\n",
    "import numpy as np\n",
    "import pandas as pd\n",
    "\n",
    "# graph visualization\n",
    "from IPython.display import SVG\n",
    "from keras.utils.vis_utils import model_to_dot\n",
    "\n",
    "keras.__version__"
   ]
  },
  {
   "cell_type": "markdown",
   "metadata": {},
   "source": [
    "## Data Preperation"
   ]
  },
  {
   "cell_type": "markdown",
   "metadata": {},
   "source": [
    "In terms of data preperation for this dataset, we chose to change up a few things. Firstly, we combine the review title \"ReviewTitle\" with the body \"ReviewBody\" to make one centralized body of text per review for analysis. We then take the data and combine some of the 5 rankings to have ultimately 3 rankings, positive, neutral, and negative. From the original data reviews of rank 1 and 2 will be negative, reviews of rank 3 will be neutral, and reviews of rank 4 and 5 will be positive.\n",
    "\n",
    "We then tokenize the text data and pad it into sequences and one hot encode the target which contains our 3 classes. For tokenization we chose a max article length of the largest review as this is a small dataset and since the largest review was also only around ~850 words, we decided to keep all the information we could possibly get. The Keras tokenizer will also remove all punction, special characters, tabs and newlines, but leave single quotes ('). "
   ]
  },
  {
   "cell_type": "code",
   "execution_count": 27,
   "metadata": {},
   "outputs": [
    {
     "data": {
      "text/html": [
       "<div>\n",
       "<style scoped>\n",
       "    .dataframe tbody tr th:only-of-type {\n",
       "        vertical-align: middle;\n",
       "    }\n",
       "\n",
       "    .dataframe tbody tr th {\n",
       "        vertical-align: top;\n",
       "    }\n",
       "\n",
       "    .dataframe thead th {\n",
       "        text-align: right;\n",
       "    }\n",
       "</style>\n",
       "<table border=\"1\" class=\"dataframe\">\n",
       "  <thead>\n",
       "    <tr style=\"text-align: right;\">\n",
       "      <th></th>\n",
       "      <th>ReviewTitle</th>\n",
       "      <th>ReviewBody</th>\n",
       "      <th>ReviewStar</th>\n",
       "      <th>Product</th>\n",
       "    </tr>\n",
       "  </thead>\n",
       "  <tbody>\n",
       "    <tr>\n",
       "      <th>0</th>\n",
       "      <td>Honest review of an edm music lover\\n</td>\n",
       "      <td>No doubt it has a great bass and to a great ex...</td>\n",
       "      <td>3</td>\n",
       "      <td>boAt Rockerz 255</td>\n",
       "    </tr>\n",
       "    <tr>\n",
       "      <th>1</th>\n",
       "      <td>Unreliable earphones with high cost\\n</td>\n",
       "      <td>This  earphones are unreliable, i bought it be...</td>\n",
       "      <td>1</td>\n",
       "      <td>boAt Rockerz 255</td>\n",
       "    </tr>\n",
       "    <tr>\n",
       "      <th>2</th>\n",
       "      <td>Really good and durable.\\n</td>\n",
       "      <td>i bought itfor 999,I purchased it second time,...</td>\n",
       "      <td>4</td>\n",
       "      <td>boAt Rockerz 255</td>\n",
       "    </tr>\n",
       "    <tr>\n",
       "      <th>3</th>\n",
       "      <td>stopped working in just 14 days\\n</td>\n",
       "      <td>Its sound quality is adorable. overall it was ...</td>\n",
       "      <td>1</td>\n",
       "      <td>boAt Rockerz 255</td>\n",
       "    </tr>\n",
       "    <tr>\n",
       "      <th>4</th>\n",
       "      <td>Just Awesome Wireless Headphone under 1000...😉\\n</td>\n",
       "      <td>Its Awesome... Good sound quality &amp; 8-9 hrs ba...</td>\n",
       "      <td>5</td>\n",
       "      <td>boAt Rockerz 255</td>\n",
       "    </tr>\n",
       "    <tr>\n",
       "      <th>...</th>\n",
       "      <td>...</td>\n",
       "      <td>...</td>\n",
       "      <td>...</td>\n",
       "      <td>...</td>\n",
       "    </tr>\n",
       "    <tr>\n",
       "      <th>14332</th>\n",
       "      <td>Good\\n</td>\n",
       "      <td>Good\\n</td>\n",
       "      <td>4</td>\n",
       "      <td>JBL T110BT</td>\n",
       "    </tr>\n",
       "    <tr>\n",
       "      <th>14333</th>\n",
       "      <td>Amazing Product\\n</td>\n",
       "      <td>An amazing product but a bit costly.\\n</td>\n",
       "      <td>5</td>\n",
       "      <td>JBL T110BT</td>\n",
       "    </tr>\n",
       "    <tr>\n",
       "      <th>14334</th>\n",
       "      <td>Not bad\\n</td>\n",
       "      <td>Sound\\n</td>\n",
       "      <td>1</td>\n",
       "      <td>JBL T110BT</td>\n",
       "    </tr>\n",
       "    <tr>\n",
       "      <th>14335</th>\n",
       "      <td>a good product\\n</td>\n",
       "      <td>the sound is good battery life is good but the...</td>\n",
       "      <td>5</td>\n",
       "      <td>JBL T110BT</td>\n",
       "    </tr>\n",
       "    <tr>\n",
       "      <th>14336</th>\n",
       "      <td>Average headphones , n overrated name\\n</td>\n",
       "      <td>M writing this review after using for almost 7...</td>\n",
       "      <td>1</td>\n",
       "      <td>JBL T110BT</td>\n",
       "    </tr>\n",
       "  </tbody>\n",
       "</table>\n",
       "<p>14337 rows × 4 columns</p>\n",
       "</div>"
      ],
      "text/plain": [
       "                                            ReviewTitle  \\\n",
       "0                 Honest review of an edm music lover\\n   \n",
       "1                 Unreliable earphones with high cost\\n   \n",
       "2                            Really good and durable.\\n   \n",
       "3                     stopped working in just 14 days\\n   \n",
       "4      Just Awesome Wireless Headphone under 1000...😉\\n   \n",
       "...                                                 ...   \n",
       "14332                                            Good\\n   \n",
       "14333                                 Amazing Product\\n   \n",
       "14334                                         Not bad\\n   \n",
       "14335                                  a good product\\n   \n",
       "14336           Average headphones , n overrated name\\n   \n",
       "\n",
       "                                              ReviewBody  ReviewStar  \\\n",
       "0      No doubt it has a great bass and to a great ex...           3   \n",
       "1      This  earphones are unreliable, i bought it be...           1   \n",
       "2      i bought itfor 999,I purchased it second time,...           4   \n",
       "3      Its sound quality is adorable. overall it was ...           1   \n",
       "4      Its Awesome... Good sound quality & 8-9 hrs ba...           5   \n",
       "...                                                  ...         ...   \n",
       "14332                                             Good\\n           4   \n",
       "14333             An amazing product but a bit costly.\\n           5   \n",
       "14334                                            Sound\\n           1   \n",
       "14335  the sound is good battery life is good but the...           5   \n",
       "14336  M writing this review after using for almost 7...           1   \n",
       "\n",
       "                Product  \n",
       "0      boAt Rockerz 255  \n",
       "1      boAt Rockerz 255  \n",
       "2      boAt Rockerz 255  \n",
       "3      boAt Rockerz 255  \n",
       "4      boAt Rockerz 255  \n",
       "...                 ...  \n",
       "14332        JBL T110BT  \n",
       "14333        JBL T110BT  \n",
       "14334        JBL T110BT  \n",
       "14335        JBL T110BT  \n",
       "14336        JBL T110BT  \n",
       "\n",
       "[14337 rows x 4 columns]"
      ]
     },
     "execution_count": 27,
     "metadata": {},
     "output_type": "execute_result"
    }
   ],
   "source": [
    "data = pd.read_csv(\"reviews.csv\")\n",
    "data"
   ]
  },
  {
   "cell_type": "code",
   "execution_count": 28,
   "metadata": {},
   "outputs": [],
   "source": [
    "data_title = data[\"ReviewTitle\"]\n",
    "data_body = data[\"ReviewBody\"]\n",
    "\n",
    "data_new = pd.DataFrame()\n",
    "data_new[\"rank\"] = data[\"ReviewStar\"]"
   ]
  },
  {
   "cell_type": "code",
   "execution_count": 29,
   "metadata": {
    "scrolled": true
   },
   "outputs": [
    {
     "data": {
      "text/html": [
       "<div>\n",
       "<style scoped>\n",
       "    .dataframe tbody tr th:only-of-type {\n",
       "        vertical-align: middle;\n",
       "    }\n",
       "\n",
       "    .dataframe tbody tr th {\n",
       "        vertical-align: top;\n",
       "    }\n",
       "\n",
       "    .dataframe thead th {\n",
       "        text-align: right;\n",
       "    }\n",
       "</style>\n",
       "<table border=\"1\" class=\"dataframe\">\n",
       "  <thead>\n",
       "    <tr style=\"text-align: right;\">\n",
       "      <th></th>\n",
       "      <th>rank</th>\n",
       "      <th>review</th>\n",
       "    </tr>\n",
       "  </thead>\n",
       "  <tbody>\n",
       "    <tr>\n",
       "      <th>0</th>\n",
       "      <td>3</td>\n",
       "      <td>Honest review of an edm music lover\\n No doubt...</td>\n",
       "    </tr>\n",
       "    <tr>\n",
       "      <th>1</th>\n",
       "      <td>1</td>\n",
       "      <td>Unreliable earphones with high cost\\n This  ea...</td>\n",
       "    </tr>\n",
       "    <tr>\n",
       "      <th>2</th>\n",
       "      <td>4</td>\n",
       "      <td>Really good and durable.\\n i bought itfor 999,...</td>\n",
       "    </tr>\n",
       "    <tr>\n",
       "      <th>3</th>\n",
       "      <td>1</td>\n",
       "      <td>stopped working in just 14 days\\n Its sound qu...</td>\n",
       "    </tr>\n",
       "    <tr>\n",
       "      <th>4</th>\n",
       "      <td>5</td>\n",
       "      <td>Just Awesome Wireless Headphone under 1000...😉...</td>\n",
       "    </tr>\n",
       "    <tr>\n",
       "      <th>...</th>\n",
       "      <td>...</td>\n",
       "      <td>...</td>\n",
       "    </tr>\n",
       "    <tr>\n",
       "      <th>14332</th>\n",
       "      <td>4</td>\n",
       "      <td>Good\\n Good\\n</td>\n",
       "    </tr>\n",
       "    <tr>\n",
       "      <th>14333</th>\n",
       "      <td>5</td>\n",
       "      <td>Amazing Product\\n An amazing product but a bit...</td>\n",
       "    </tr>\n",
       "    <tr>\n",
       "      <th>14334</th>\n",
       "      <td>1</td>\n",
       "      <td>Not bad\\n Sound\\n</td>\n",
       "    </tr>\n",
       "    <tr>\n",
       "      <th>14335</th>\n",
       "      <td>5</td>\n",
       "      <td>a good product\\n the sound is good battery lif...</td>\n",
       "    </tr>\n",
       "    <tr>\n",
       "      <th>14336</th>\n",
       "      <td>1</td>\n",
       "      <td>Average headphones , n overrated name\\n M writ...</td>\n",
       "    </tr>\n",
       "  </tbody>\n",
       "</table>\n",
       "<p>14337 rows × 2 columns</p>\n",
       "</div>"
      ],
      "text/plain": [
       "       rank                                             review\n",
       "0         3  Honest review of an edm music lover\\n No doubt...\n",
       "1         1  Unreliable earphones with high cost\\n This  ea...\n",
       "2         4  Really good and durable.\\n i bought itfor 999,...\n",
       "3         1  stopped working in just 14 days\\n Its sound qu...\n",
       "4         5  Just Awesome Wireless Headphone under 1000...😉...\n",
       "...     ...                                                ...\n",
       "14332     4                                      Good\\n Good\\n\n",
       "14333     5  Amazing Product\\n An amazing product but a bit...\n",
       "14334     1                                  Not bad\\n Sound\\n\n",
       "14335     5  a good product\\n the sound is good battery lif...\n",
       "14336     1  Average headphones , n overrated name\\n M writ...\n",
       "\n",
       "[14337 rows x 2 columns]"
      ]
     },
     "execution_count": 29,
     "metadata": {},
     "output_type": "execute_result"
    }
   ],
   "source": [
    "data_new[\"review\"] = data[\"ReviewTitle\"].map(str) + \" \" + data[\"ReviewBody\"]\n",
    "data_new"
   ]
  },
  {
   "cell_type": "code",
   "execution_count": 30,
   "metadata": {
    "scrolled": false
   },
   "outputs": [
    {
     "data": {
      "text/html": [
       "<div>\n",
       "<style scoped>\n",
       "    .dataframe tbody tr th:only-of-type {\n",
       "        vertical-align: middle;\n",
       "    }\n",
       "\n",
       "    .dataframe tbody tr th {\n",
       "        vertical-align: top;\n",
       "    }\n",
       "\n",
       "    .dataframe thead th {\n",
       "        text-align: right;\n",
       "    }\n",
       "</style>\n",
       "<table border=\"1\" class=\"dataframe\">\n",
       "  <thead>\n",
       "    <tr style=\"text-align: right;\">\n",
       "      <th></th>\n",
       "      <th>rank</th>\n",
       "      <th>review</th>\n",
       "    </tr>\n",
       "  </thead>\n",
       "  <tbody>\n",
       "    <tr>\n",
       "      <th>1</th>\n",
       "      <td>0</td>\n",
       "      <td>Unreliable earphones with high cost\\n This  ea...</td>\n",
       "    </tr>\n",
       "    <tr>\n",
       "      <th>3</th>\n",
       "      <td>0</td>\n",
       "      <td>stopped working in just 14 days\\n Its sound qu...</td>\n",
       "    </tr>\n",
       "    <tr>\n",
       "      <th>5</th>\n",
       "      <td>0</td>\n",
       "      <td>Charging port not working\\n After 11 days, the...</td>\n",
       "    </tr>\n",
       "    <tr>\n",
       "      <th>9</th>\n",
       "      <td>0</td>\n",
       "      <td>Very very bad Durabity\\n The product durabilit...</td>\n",
       "    </tr>\n",
       "    <tr>\n",
       "      <th>11</th>\n",
       "      <td>0</td>\n",
       "      <td>Disappointed\\n What on earth is the use of buy...</td>\n",
       "    </tr>\n",
       "    <tr>\n",
       "      <th>...</th>\n",
       "      <td>...</td>\n",
       "      <td>...</td>\n",
       "    </tr>\n",
       "    <tr>\n",
       "      <th>14329</th>\n",
       "      <td>0</td>\n",
       "      <td>It's  from jbl or  road side product!?  Magic ...</td>\n",
       "    </tr>\n",
       "    <tr>\n",
       "      <th>14330</th>\n",
       "      <td>0</td>\n",
       "      <td>Ok\\n Very bad\\n</td>\n",
       "    </tr>\n",
       "    <tr>\n",
       "      <th>14331</th>\n",
       "      <td>0</td>\n",
       "      <td>Bad performance\\n Very bad sound call quality ...</td>\n",
       "    </tr>\n",
       "    <tr>\n",
       "      <th>14334</th>\n",
       "      <td>0</td>\n",
       "      <td>Not bad\\n Sound\\n</td>\n",
       "    </tr>\n",
       "    <tr>\n",
       "      <th>14336</th>\n",
       "      <td>0</td>\n",
       "      <td>Average headphones , n overrated name\\n M writ...</td>\n",
       "    </tr>\n",
       "  </tbody>\n",
       "</table>\n",
       "<p>3432 rows × 2 columns</p>\n",
       "</div>"
      ],
      "text/plain": [
       "      rank                                             review\n",
       "1        0  Unreliable earphones with high cost\\n This  ea...\n",
       "3        0  stopped working in just 14 days\\n Its sound qu...\n",
       "5        0  Charging port not working\\n After 11 days, the...\n",
       "9        0  Very very bad Durabity\\n The product durabilit...\n",
       "11       0  Disappointed\\n What on earth is the use of buy...\n",
       "...    ...                                                ...\n",
       "14329    0  It's  from jbl or  road side product!?  Magic ...\n",
       "14330    0                                    Ok\\n Very bad\\n\n",
       "14331    0  Bad performance\\n Very bad sound call quality ...\n",
       "14334    0                                  Not bad\\n Sound\\n\n",
       "14336    0  Average headphones , n overrated name\\n M writ...\n",
       "\n",
       "[3432 rows x 2 columns]"
      ]
     },
     "execution_count": 30,
     "metadata": {},
     "output_type": "execute_result"
    }
   ],
   "source": [
    "data_final_1 = data_new.loc[data_new['rank'].isin(['1','2'])].copy()\n",
    "data_final_1[\"rank\"] = '0'\n",
    "data_final_1"
   ]
  },
  {
   "cell_type": "code",
   "execution_count": 31,
   "metadata": {},
   "outputs": [
    {
     "data": {
      "text/html": [
       "<div>\n",
       "<style scoped>\n",
       "    .dataframe tbody tr th:only-of-type {\n",
       "        vertical-align: middle;\n",
       "    }\n",
       "\n",
       "    .dataframe tbody tr th {\n",
       "        vertical-align: top;\n",
       "    }\n",
       "\n",
       "    .dataframe thead th {\n",
       "        text-align: right;\n",
       "    }\n",
       "</style>\n",
       "<table border=\"1\" class=\"dataframe\">\n",
       "  <thead>\n",
       "    <tr style=\"text-align: right;\">\n",
       "      <th></th>\n",
       "      <th>rank</th>\n",
       "      <th>review</th>\n",
       "    </tr>\n",
       "  </thead>\n",
       "  <tbody>\n",
       "    <tr>\n",
       "      <th>0</th>\n",
       "      <td>1</td>\n",
       "      <td>Honest review of an edm music lover\\n No doubt...</td>\n",
       "    </tr>\n",
       "    <tr>\n",
       "      <th>7</th>\n",
       "      <td>1</td>\n",
       "      <td>Great sound with worst mic.\\n After one month ...</td>\n",
       "    </tr>\n",
       "    <tr>\n",
       "      <th>15</th>\n",
       "      <td>1</td>\n",
       "      <td>Good Earphones with good sound quality and bui...</td>\n",
       "    </tr>\n",
       "    <tr>\n",
       "      <th>17</th>\n",
       "      <td>1</td>\n",
       "      <td>Good product with decent pros\\n The product is...</td>\n",
       "    </tr>\n",
       "    <tr>\n",
       "      <th>19</th>\n",
       "      <td>1</td>\n",
       "      <td>Overall good but not that worth\\n he only prob...</td>\n",
       "    </tr>\n",
       "    <tr>\n",
       "      <th>...</th>\n",
       "      <td>...</td>\n",
       "      <td>...</td>\n",
       "    </tr>\n",
       "    <tr>\n",
       "      <th>14257</th>\n",
       "      <td>1</td>\n",
       "      <td>Three Stars\\n Super\\n</td>\n",
       "    </tr>\n",
       "    <tr>\n",
       "      <th>14285</th>\n",
       "      <td>1</td>\n",
       "      <td>Good sound\\n Good\\n</td>\n",
       "    </tr>\n",
       "    <tr>\n",
       "      <th>14291</th>\n",
       "      <td>1</td>\n",
       "      <td>Never buy it\\n Only in 1 month battery doesn't...</td>\n",
       "    </tr>\n",
       "    <tr>\n",
       "      <th>14294</th>\n",
       "      <td>1</td>\n",
       "      <td>Normal\\n Average\\n</td>\n",
       "    </tr>\n",
       "    <tr>\n",
       "      <th>14298</th>\n",
       "      <td>1</td>\n",
       "      <td>Base is not so good.\\n Base of the earphone is...</td>\n",
       "    </tr>\n",
       "  </tbody>\n",
       "</table>\n",
       "<p>1503 rows × 2 columns</p>\n",
       "</div>"
      ],
      "text/plain": [
       "      rank                                             review\n",
       "0        1  Honest review of an edm music lover\\n No doubt...\n",
       "7        1  Great sound with worst mic.\\n After one month ...\n",
       "15       1  Good Earphones with good sound quality and bui...\n",
       "17       1  Good product with decent pros\\n The product is...\n",
       "19       1  Overall good but not that worth\\n he only prob...\n",
       "...    ...                                                ...\n",
       "14257    1                              Three Stars\\n Super\\n\n",
       "14285    1                                Good sound\\n Good\\n\n",
       "14291    1  Never buy it\\n Only in 1 month battery doesn't...\n",
       "14294    1                                 Normal\\n Average\\n\n",
       "14298    1  Base is not so good.\\n Base of the earphone is...\n",
       "\n",
       "[1503 rows x 2 columns]"
      ]
     },
     "execution_count": 31,
     "metadata": {},
     "output_type": "execute_result"
    }
   ],
   "source": [
    "data_final_2 = data_new.loc[data_new['rank'].isin(['3'])].copy()\n",
    "data_final_2[\"rank\"] = '1'\n",
    "data_final_2"
   ]
  },
  {
   "cell_type": "code",
   "execution_count": 32,
   "metadata": {},
   "outputs": [
    {
     "data": {
      "text/html": [
       "<div>\n",
       "<style scoped>\n",
       "    .dataframe tbody tr th:only-of-type {\n",
       "        vertical-align: middle;\n",
       "    }\n",
       "\n",
       "    .dataframe tbody tr th {\n",
       "        vertical-align: top;\n",
       "    }\n",
       "\n",
       "    .dataframe thead th {\n",
       "        text-align: right;\n",
       "    }\n",
       "</style>\n",
       "<table border=\"1\" class=\"dataframe\">\n",
       "  <thead>\n",
       "    <tr style=\"text-align: right;\">\n",
       "      <th></th>\n",
       "      <th>rank</th>\n",
       "      <th>review</th>\n",
       "    </tr>\n",
       "  </thead>\n",
       "  <tbody>\n",
       "    <tr>\n",
       "      <th>2</th>\n",
       "      <td>2</td>\n",
       "      <td>Really good and durable.\\n i bought itfor 999,...</td>\n",
       "    </tr>\n",
       "    <tr>\n",
       "      <th>4</th>\n",
       "      <td>2</td>\n",
       "      <td>Just Awesome Wireless Headphone under 1000...😉...</td>\n",
       "    </tr>\n",
       "    <tr>\n",
       "      <th>6</th>\n",
       "      <td>2</td>\n",
       "      <td>Loved the color and sound !!\\n Sound-4.5/5Buil...</td>\n",
       "    </tr>\n",
       "    <tr>\n",
       "      <th>8</th>\n",
       "      <td>2</td>\n",
       "      <td>Battery life is good enough to keep going all ...</td>\n",
       "    </tr>\n",
       "    <tr>\n",
       "      <th>10</th>\n",
       "      <td>2</td>\n",
       "      <td>Running has become comfortable now\\n The sound...</td>\n",
       "    </tr>\n",
       "    <tr>\n",
       "      <th>...</th>\n",
       "      <td>...</td>\n",
       "      <td>...</td>\n",
       "    </tr>\n",
       "    <tr>\n",
       "      <th>14327</th>\n",
       "      <td>2</td>\n",
       "      <td>Excellent..Just go for it..\\n Have been using ...</td>\n",
       "    </tr>\n",
       "    <tr>\n",
       "      <th>14328</th>\n",
       "      <td>2</td>\n",
       "      <td>Quallity maintain is good\\n Very good product ...</td>\n",
       "    </tr>\n",
       "    <tr>\n",
       "      <th>14332</th>\n",
       "      <td>2</td>\n",
       "      <td>Good\\n Good\\n</td>\n",
       "    </tr>\n",
       "    <tr>\n",
       "      <th>14333</th>\n",
       "      <td>2</td>\n",
       "      <td>Amazing Product\\n An amazing product but a bit...</td>\n",
       "    </tr>\n",
       "    <tr>\n",
       "      <th>14335</th>\n",
       "      <td>2</td>\n",
       "      <td>a good product\\n the sound is good battery lif...</td>\n",
       "    </tr>\n",
       "  </tbody>\n",
       "</table>\n",
       "<p>9402 rows × 2 columns</p>\n",
       "</div>"
      ],
      "text/plain": [
       "      rank                                             review\n",
       "2        2  Really good and durable.\\n i bought itfor 999,...\n",
       "4        2  Just Awesome Wireless Headphone under 1000...😉...\n",
       "6        2  Loved the color and sound !!\\n Sound-4.5/5Buil...\n",
       "8        2  Battery life is good enough to keep going all ...\n",
       "10       2  Running has become comfortable now\\n The sound...\n",
       "...    ...                                                ...\n",
       "14327    2  Excellent..Just go for it..\\n Have been using ...\n",
       "14328    2  Quallity maintain is good\\n Very good product ...\n",
       "14332    2                                      Good\\n Good\\n\n",
       "14333    2  Amazing Product\\n An amazing product but a bit...\n",
       "14335    2  a good product\\n the sound is good battery lif...\n",
       "\n",
       "[9402 rows x 2 columns]"
      ]
     },
     "execution_count": 32,
     "metadata": {},
     "output_type": "execute_result"
    }
   ],
   "source": [
    "data_final_3 = data_new.loc[data_new['rank'].isin(['4','5'])].copy()\n",
    "data_final_3[\"rank\"] = '2'\n",
    "data_final_3"
   ]
  },
  {
   "cell_type": "code",
   "execution_count": 33,
   "metadata": {},
   "outputs": [
    {
     "data": {
      "text/html": [
       "<div>\n",
       "<style scoped>\n",
       "    .dataframe tbody tr th:only-of-type {\n",
       "        vertical-align: middle;\n",
       "    }\n",
       "\n",
       "    .dataframe tbody tr th {\n",
       "        vertical-align: top;\n",
       "    }\n",
       "\n",
       "    .dataframe thead th {\n",
       "        text-align: right;\n",
       "    }\n",
       "</style>\n",
       "<table border=\"1\" class=\"dataframe\">\n",
       "  <thead>\n",
       "    <tr style=\"text-align: right;\">\n",
       "      <th></th>\n",
       "      <th>rank</th>\n",
       "      <th>review</th>\n",
       "    </tr>\n",
       "  </thead>\n",
       "  <tbody>\n",
       "    <tr>\n",
       "      <th>1</th>\n",
       "      <td>0</td>\n",
       "      <td>Unreliable earphones with high cost\\n This  ea...</td>\n",
       "    </tr>\n",
       "    <tr>\n",
       "      <th>3</th>\n",
       "      <td>0</td>\n",
       "      <td>stopped working in just 14 days\\n Its sound qu...</td>\n",
       "    </tr>\n",
       "    <tr>\n",
       "      <th>5</th>\n",
       "      <td>0</td>\n",
       "      <td>Charging port not working\\n After 11 days, the...</td>\n",
       "    </tr>\n",
       "    <tr>\n",
       "      <th>9</th>\n",
       "      <td>0</td>\n",
       "      <td>Very very bad Durabity\\n The product durabilit...</td>\n",
       "    </tr>\n",
       "    <tr>\n",
       "      <th>11</th>\n",
       "      <td>0</td>\n",
       "      <td>Disappointed\\n What on earth is the use of buy...</td>\n",
       "    </tr>\n",
       "    <tr>\n",
       "      <th>...</th>\n",
       "      <td>...</td>\n",
       "      <td>...</td>\n",
       "    </tr>\n",
       "    <tr>\n",
       "      <th>14327</th>\n",
       "      <td>2</td>\n",
       "      <td>Excellent..Just go for it..\\n Have been using ...</td>\n",
       "    </tr>\n",
       "    <tr>\n",
       "      <th>14328</th>\n",
       "      <td>2</td>\n",
       "      <td>Quallity maintain is good\\n Very good product ...</td>\n",
       "    </tr>\n",
       "    <tr>\n",
       "      <th>14332</th>\n",
       "      <td>2</td>\n",
       "      <td>Good\\n Good\\n</td>\n",
       "    </tr>\n",
       "    <tr>\n",
       "      <th>14333</th>\n",
       "      <td>2</td>\n",
       "      <td>Amazing Product\\n An amazing product but a bit...</td>\n",
       "    </tr>\n",
       "    <tr>\n",
       "      <th>14335</th>\n",
       "      <td>2</td>\n",
       "      <td>a good product\\n the sound is good battery lif...</td>\n",
       "    </tr>\n",
       "  </tbody>\n",
       "</table>\n",
       "<p>14337 rows × 2 columns</p>\n",
       "</div>"
      ],
      "text/plain": [
       "      rank                                             review\n",
       "1        0  Unreliable earphones with high cost\\n This  ea...\n",
       "3        0  stopped working in just 14 days\\n Its sound qu...\n",
       "5        0  Charging port not working\\n After 11 days, the...\n",
       "9        0  Very very bad Durabity\\n The product durabilit...\n",
       "11       0  Disappointed\\n What on earth is the use of buy...\n",
       "...    ...                                                ...\n",
       "14327    2  Excellent..Just go for it..\\n Have been using ...\n",
       "14328    2  Quallity maintain is good\\n Very good product ...\n",
       "14332    2                                      Good\\n Good\\n\n",
       "14333    2  Amazing Product\\n An amazing product but a bit...\n",
       "14335    2  a good product\\n the sound is good battery lif...\n",
       "\n",
       "[14337 rows x 2 columns]"
      ]
     },
     "execution_count": 33,
     "metadata": {},
     "output_type": "execute_result"
    }
   ],
   "source": [
    "data_final = pd.concat([data_final_1, data_final_2, data_final_3], axis=0)\n",
    "data_final"
   ]
  },
  {
   "cell_type": "code",
   "execution_count": 34,
   "metadata": {},
   "outputs": [
    {
     "data": {
      "text/plain": [
       "1        Unreliable earphones with high cost\\n This  ea...\n",
       "3        stopped working in just 14 days\\n Its sound qu...\n",
       "5        Charging port not working\\n After 11 days, the...\n",
       "9        Very very bad Durabity\\n The product durabilit...\n",
       "11       Disappointed\\n What on earth is the use of buy...\n",
       "                               ...                        \n",
       "14327    Excellent..Just go for it..\\n Have been using ...\n",
       "14328    Quallity maintain is good\\n Very good product ...\n",
       "14332                                        Good\\n Good\\n\n",
       "14333    Amazing Product\\n An amazing product but a bit...\n",
       "14335    a good product\\n the sound is good battery lif...\n",
       "Name: review, Length: 14337, dtype: object"
      ]
     },
     "execution_count": 34,
     "metadata": {},
     "output_type": "execute_result"
    }
   ],
   "source": [
    "X_data = data_final[\"review\"]\n",
    "X_data"
   ]
  },
  {
   "cell_type": "code",
   "execution_count": 35,
   "metadata": {},
   "outputs": [
    {
     "data": {
      "text/plain": [
       "1        0\n",
       "3        0\n",
       "5        0\n",
       "9        0\n",
       "11       0\n",
       "        ..\n",
       "14327    2\n",
       "14328    2\n",
       "14332    2\n",
       "14333    2\n",
       "14335    2\n",
       "Name: rank, Length: 14337, dtype: object"
      ]
     },
     "execution_count": 35,
     "metadata": {},
     "output_type": "execute_result"
    }
   ],
   "source": [
    "y_data = data_final[\"rank\"]\n",
    "y_data"
   ]
  },
  {
   "cell_type": "code",
   "execution_count": 36,
   "metadata": {},
   "outputs": [
    {
     "name": "stdout",
     "output_type": "stream",
     "text": [
      "Found 12156 unique tokens. Distilled to 12156 top words.\n",
      "Shape of data tensor: (14337, 868)\n",
      "Shape of label tensor: (14337, 3)\n",
      "12156\n",
      "Wall time: 620 ms\n"
     ]
    }
   ],
   "source": [
    "%%time\n",
    "NUM_TOP_WORDS = None\n",
    "MAX_ART_LEN = X_data.map(lambda x: len(x.split())).max() # maximum and minimum number of words\n",
    "NUM_CLASSES = 3\n",
    "\n",
    "tokenizer = Tokenizer(num_words=NUM_TOP_WORDS)\n",
    "tokenizer.fit_on_texts(X_data)\n",
    "sequences = tokenizer.texts_to_sequences(X_data)\n",
    "\n",
    "word_index = tokenizer.word_index\n",
    "NUM_TOP_WORDS = len(word_index) if NUM_TOP_WORDS==None else NUM_TOP_WORDS\n",
    "top_words = min((len(word_index),NUM_TOP_WORDS))\n",
    "print('Found %s unique tokens. Distilled to %d top words.' % (len(word_index),top_words))\n",
    "\n",
    "X = pad_sequences(sequences, maxlen=MAX_ART_LEN)\n",
    "# X = pad_sequences(sequences)\n",
    "\n",
    "y_ohe = keras.utils.to_categorical(y_data)\n",
    "# y_ohe = y_ohe[:,1:]\n",
    "\n",
    "print('Shape of data tensor:', X.shape)\n",
    "print('Shape of label tensor:', y_ohe.shape)\n",
    "print(np.max(X))"
   ]
  },
  {
   "cell_type": "code",
   "execution_count": 37,
   "metadata": {},
   "outputs": [
    {
     "data": {
      "text/plain": [
       "array([3432., 1503., 9402.], dtype=float32)"
      ]
     },
     "execution_count": 37,
     "metadata": {},
     "output_type": "execute_result"
    }
   ],
   "source": [
    "np.sum(y_ohe, axis=0)"
   ]
  },
  {
   "cell_type": "code",
   "execution_count": 38,
   "metadata": {},
   "outputs": [
    {
     "data": {
      "text/plain": [
       "array([[   0,    0,    0, ..., 1633,    9,  301],\n",
       "       [   0,    0,    0, ...,    1,  227, 5499],\n",
       "       [   0,    0,    0, ...,  108,  357,   21],\n",
       "       ...,\n",
       "       [   0,    0,    0, ...,    0,    3,    3],\n",
       "       [   0,    0,    0, ...,   14,  157,  701],\n",
       "       [   0,    0,    0, ...,   18,    3,    9]])"
      ]
     },
     "execution_count": 38,
     "metadata": {},
     "output_type": "execute_result"
    }
   ],
   "source": [
    "X"
   ]
  },
  {
   "cell_type": "code",
   "execution_count": 40,
   "metadata": {},
   "outputs": [
    {
     "name": "stdout",
     "output_type": "stream",
     "text": [
      "(11469, 868) (11469, 3)\n",
      "(2868, 868) (2868, 3)\n",
      "[2746. 1202. 7521.]\n",
      "[ 686.  301. 1881.]\n"
     ]
    }
   ],
   "source": [
    "from sklearn.model_selection import train_test_split\n",
    "# Split it into train / test subsets\n",
    "X_train, X_test, y_train, y_test = train_test_split(X, y_ohe, test_size=0.2,\n",
    "                                                              stratify=y_data, \n",
    "                                                              random_state=42)\n",
    "\n",
    "print(X_train.shape,y_train.shape)\n",
    "print(X_test.shape,y_test.shape)\n",
    "print(np.sum(y_train,axis=0))\n",
    "print(np.sum(y_test,axis=0))"
   ]
  },
  {
   "cell_type": "markdown",
   "metadata": {},
   "source": [
    "## Evaluation"
   ]
  },
  {
   "cell_type": "markdown",
   "metadata": {},
   "source": []
  },
  {
   "cell_type": "markdown",
   "metadata": {},
   "source": [
    "### Model 1"
   ]
  },
  {
   "cell_type": "markdown",
   "metadata": {},
   "source": []
  },
  {
   "cell_type": "code",
   "execution_count": 41,
   "metadata": {
    "scrolled": true
   },
   "outputs": [
    {
     "name": "stdout",
     "output_type": "stream",
     "text": [
      "Model: \"sequential_1\"\n",
      "_________________________________________________________________\n",
      "Layer (type)                 Output Shape              Param #   \n",
      "=================================================================\n",
      "embedding_1 (Embedding)      (None, 868, 150)          130200    \n",
      "_________________________________________________________________\n",
      "simple_rnn_1 (SimpleRNN)     (None, 100)               25100     \n",
      "_________________________________________________________________\n",
      "dense_1 (Dense)              (None, 3)                 303       \n",
      "=================================================================\n",
      "Total params: 155,603\n",
      "Trainable params: 155,603\n",
      "Non-trainable params: 0\n",
      "_________________________________________________________________\n",
      "None\n"
     ]
    }
   ],
   "source": [
    "max_review_length = MAX_ART_LEN\n",
    "EMBED_SIZE = 150\n",
    "embedding_layer = Embedding(X_train.shape[1],\n",
    "                            EMBED_SIZE,\n",
    "                            input_length=MAX_ART_LEN)\n",
    "\n",
    "rnn1 = Sequential()\n",
    "rnn1.add(embedding_layer)\n",
    "rnn1.add(SimpleRNN(100,dropout=0.2, recurrent_dropout=0.2))\n",
    "rnn1.add(Dense(NUM_CLASSES, activation='sigmoid'))\n",
    "rnn1.compile(loss='categorical_crossentropy', \n",
    "              optimizer='rmsprop', \n",
    "              metrics=['accuracy'])\n",
    "print(rnn1.summary())"
   ]
  },
  {
   "cell_type": "code",
   "execution_count": null,
   "metadata": {},
   "outputs": [],
   "source": [
    "SVG(model_to_dot(rnn1, show_shapes= True, show_layer_names=True, dpi=65).create(prog='dot', format='svg'))"
   ]
  },
  {
   "cell_type": "code",
   "execution_count": 42,
   "metadata": {},
   "outputs": [
    {
     "name": "stderr",
     "output_type": "stream",
     "text": [
      "C:\\Users\\liaml\\Anaconda3\\envs\\gputest\\lib\\site-packages\\tensorflow_core\\python\\framework\\indexed_slices.py:424: UserWarning: Converting sparse IndexedSlices to a dense Tensor of unknown shape. This may consume a large amount of memory.\n",
      "  \"Converting sparse IndexedSlices to a dense Tensor of unknown shape. \"\n"
     ]
    },
    {
     "name": "stdout",
     "output_type": "stream",
     "text": [
      "Train on 11469 samples, validate on 2868 samples\n",
      "Epoch 1/15\n",
      "11469/11469 [==============================] - 119s 10ms/step - loss: 0.9125 - accuracy: 0.5939 - val_loss: 0.7957 - val_accuracy: 0.6614\n",
      "Epoch 2/15\n",
      "11469/11469 [==============================] - 119s 10ms/step - loss: 0.7964 - accuracy: 0.6695 - val_loss: 0.7272 - val_accuracy: 0.7085\n",
      "Epoch 3/15\n",
      "11469/11469 [==============================] - 120s 10ms/step - loss: 0.7349 - accuracy: 0.7001 - val_loss: 0.6937 - val_accuracy: 0.7228\n",
      "Epoch 4/15\n",
      "11469/11469 [==============================] - 120s 10ms/step - loss: 0.7112 - accuracy: 0.7114 - val_loss: 0.6837 - val_accuracy: 0.7245\n",
      "Epoch 5/15\n",
      "11469/11469 [==============================] - 119s 10ms/step - loss: 0.6940 - accuracy: 0.7243 - val_loss: 0.6450 - val_accuracy: 0.7483\n",
      "Epoch 6/15\n",
      "11469/11469 [==============================] - 119s 10ms/step - loss: 0.6429 - accuracy: 0.7545 - val_loss: 0.6123 - val_accuracy: 0.7842\n",
      "Epoch 7/15\n",
      "11469/11469 [==============================] - 119s 10ms/step - loss: 0.5948 - accuracy: 0.7763 - val_loss: 0.6178 - val_accuracy: 0.7817\n",
      "Epoch 8/15\n",
      "11469/11469 [==============================] - 119s 10ms/step - loss: 0.5885 - accuracy: 0.7778 - val_loss: 0.6054 - val_accuracy: 0.7706\n",
      "Epoch 9/15\n",
      "11469/11469 [==============================] - 119s 10ms/step - loss: 0.5951 - accuracy: 0.7689 - val_loss: 0.5994 - val_accuracy: 0.7601\n",
      "Epoch 10/15\n",
      "11469/11469 [==============================] - 119s 10ms/step - loss: 0.5823 - accuracy: 0.7786 - val_loss: 0.5949 - val_accuracy: 0.7692\n",
      "Epoch 11/15\n",
      "11469/11469 [==============================] - 119s 10ms/step - loss: 0.5480 - accuracy: 0.7949 - val_loss: 0.5510 - val_accuracy: 0.7967\n",
      "Epoch 12/15\n",
      "11469/11469 [==============================] - 119s 10ms/step - loss: 0.5367 - accuracy: 0.7993 - val_loss: 0.5747 - val_accuracy: 0.7863\n",
      "Epoch 13/15\n",
      "11469/11469 [==============================] - 119s 10ms/step - loss: 0.5830 - accuracy: 0.7914 - val_loss: 0.6305 - val_accuracy: 0.7967\n",
      "Epoch 14/15\n",
      "11469/11469 [==============================] - 119s 10ms/step - loss: 0.5637 - accuracy: 0.7891 - val_loss: 0.5878 - val_accuracy: 0.7779\n"
     ]
    }
   ],
   "source": [
    "history1 = rnn1.fit(X_train, y_train, \n",
    "        epochs=15, \n",
    "        batch_size=64, \n",
    "        validation_data=(X_test, y_test), \n",
    "        callbacks=[EarlyStopping(monitor='val_loss', patience=2)]\n",
    "       )"
   ]
  },
  {
   "cell_type": "code",
   "execution_count": 43,
   "metadata": {},
   "outputs": [],
   "source": [
    "rnn.save_weights('model_1_weights.h5')"
   ]
  },
  {
   "cell_type": "code",
   "execution_count": 50,
   "metadata": {},
   "outputs": [
    {
     "name": "stdout",
     "output_type": "stream",
     "text": [
      "dict_keys(['val_loss', 'val_accuracy', 'loss', 'accuracy'])\n"
     ]
    },
    {
     "data": {
      "text/plain": [
       "Text(0.5, 0, 'epochs')"
      ]
     },
     "execution_count": 50,
     "metadata": {},
     "output_type": "execute_result"
    },
    {
     "data": {
      "image/png": "[encoded data removed]",
      "text/plain": [
       "<Figure size 720x288 with 4 Axes>"
      ]
     },
     "metadata": {
      "needs_background": "light"
     },
     "output_type": "display_data"
    }
   ],
   "source": [
    "print(history1.history.keys())\n",
    "plt.figure(figsize=(10,4))\n",
    "plt.subplot(2,2,1)\n",
    "plt.plot(history1.history['accuracy'])\n",
    "\n",
    "plt.ylabel('Accuracy %')\n",
    "plt.title('Training')\n",
    "plt.subplot(2,2,2)\n",
    "plt.plot(history1.history['val_accuracy'])\n",
    "plt.title('Validation')\n",
    "\n",
    "plt.subplot(2,2,3)\n",
    "plt.plot(history1.history['loss'])\n",
    "plt.ylabel('Cross Entropy Training Loss')\n",
    "plt.xlabel('epochs')\n",
    "\n",
    "plt.subplot(2,2,4)\n",
    "plt.plot(history1.history['val_loss'])\n",
    "plt.xlabel('epochs')"
   ]
  },
  {
   "cell_type": "markdown",
   "metadata": {},
   "source": [
    "### Model 2"
   ]
  },
  {
   "cell_type": "markdown",
   "metadata": {},
   "source": []
  },
  {
   "cell_type": "code",
   "execution_count": 44,
   "metadata": {},
   "outputs": [
    {
     "name": "stdout",
     "output_type": "stream",
     "text": [
      "Found 400000 word vectors.\n",
      "(12157, 200)\n",
      "Wall time: 20.6 s\n"
     ]
    }
   ],
   "source": [
    "%%time\n",
    "\n",
    "EMBED_SIZE = 200\n",
    "embeddings_index = {}\n",
    "\n",
    "f = open('./glove/glove.6B.200d.txt', encoding=\"utf8\")\n",
    "for line in f:\n",
    "    values = line.split()\n",
    "    word = values[0]\n",
    "    coefs = np.asarray(values[1:], dtype='float32')\n",
    "    embeddings_index[word] = coefs\n",
    "f.close()\n",
    "\n",
    "print('Found %s word vectors.' % len(embeddings_index))\n",
    "\n",
    "embedding_matrix = np.zeros((len(word_index) + 1, EMBED_SIZE))\n",
    "for word, i in word_index.items():\n",
    "    embedding_vector = embeddings_index.get(word)\n",
    "    if embedding_vector is not None:\n",
    "        # words not found in embedding index will be all-zeros.\n",
    "        embedding_matrix[i] = embedding_vector\n",
    "\n",
    "print(embedding_matrix.shape)"
   ]
  },
  {
   "cell_type": "code",
   "execution_count": 45,
   "metadata": {},
   "outputs": [],
   "source": [
    "embedding_layer = Embedding(len(word_index) + 1,\n",
    "                            EMBED_SIZE,\n",
    "                            weights=[embedding_matrix],\n",
    "                            input_length=MAX_ART_LEN,\n",
    "                            trainable=False)"
   ]
  },
  {
   "cell_type": "code",
   "execution_count": 48,
   "metadata": {},
   "outputs": [
    {
     "name": "stdout",
     "output_type": "stream",
     "text": [
      "Model: \"sequential_3\"\n",
      "_________________________________________________________________\n",
      "Layer (type)                 Output Shape              Param #   \n",
      "=================================================================\n",
      "embedding_2 (Embedding)      (None, 868, 200)          2431400   \n",
      "_________________________________________________________________\n",
      "lstm_2 (LSTM)                (None, 100)               120400    \n",
      "_________________________________________________________________\n",
      "dense_3 (Dense)              (None, 3)                 303       \n",
      "=================================================================\n",
      "Total params: 2,552,103\n",
      "Trainable params: 120,703\n",
      "Non-trainable params: 2,431,400\n",
      "_________________________________________________________________\n",
      "None\n"
     ]
    }
   ],
   "source": [
    "rnn2 = Sequential()\n",
    "rnn2.add(embedding_layer)\n",
    "rnn2.add(LSTM(100,dropout=0.2, recurrent_dropout=0.2))\n",
    "rnn2.add(Dense(NUM_CLASSES, activation='sigmoid'))\n",
    "rnn2.compile(loss='categorical_crossentropy', \n",
    "              optimizer='rmsprop', \n",
    "              metrics=['accuracy'])\n",
    "print(rnn2.summary())"
   ]
  },
  {
   "cell_type": "code",
   "execution_count": null,
   "metadata": {},
   "outputs": [],
   "source": [
    "SVG(model_to_dot(rnn2, show_shapes= True, show_layer_names=True, dpi=65).create(prog='dot', format='svg'))"
   ]
  },
  {
   "cell_type": "code",
   "execution_count": 49,
   "metadata": {},
   "outputs": [
    {
     "name": "stdout",
     "output_type": "stream",
     "text": [
      "Train on 11469 samples, validate on 2868 samples\n",
      "Epoch 1/15\n",
      "11469/11469 [==============================] - 140s 12ms/step - loss: 0.6757 - accuracy: 0.7345 - val_loss: 0.5244 - val_accuracy: 0.8065\n",
      "Epoch 2/15\n",
      "11469/11469 [==============================] - 139s 12ms/step - loss: 0.5479 - accuracy: 0.7968 - val_loss: 0.4891 - val_accuracy: 0.8232\n",
      "Epoch 3/15\n",
      "11469/11469 [==============================] - 138s 12ms/step - loss: 0.4992 - accuracy: 0.8145 - val_loss: 0.4724 - val_accuracy: 0.8194\n",
      "Epoch 4/15\n",
      "11469/11469 [==============================] - 139s 12ms/step - loss: 0.4674 - accuracy: 0.8242 - val_loss: 0.4603 - val_accuracy: 0.8183\n",
      "Epoch 5/15\n",
      "11469/11469 [==============================] - 139s 12ms/step - loss: 0.4441 - accuracy: 0.8270 - val_loss: 0.4598 - val_accuracy: 0.8250\n",
      "Epoch 6/15\n",
      "11469/11469 [==============================] - 138s 12ms/step - loss: 0.4326 - accuracy: 0.8351 - val_loss: 0.4259 - val_accuracy: 0.8424\n",
      "Epoch 7/15\n",
      "11469/11469 [==============================] - 138s 12ms/step - loss: 0.4129 - accuracy: 0.8427 - val_loss: 0.4219 - val_accuracy: 0.8403\n",
      "Epoch 8/15\n",
      "11469/11469 [==============================] - 138s 12ms/step - loss: 0.4017 - accuracy: 0.8440 - val_loss: 0.4281 - val_accuracy: 0.8476\n",
      "Epoch 9/15\n",
      "11469/11469 [==============================] - 139s 12ms/step - loss: 0.3854 - accuracy: 0.8500 - val_loss: 0.4249 - val_accuracy: 0.8452\n"
     ]
    }
   ],
   "source": [
    "history2 = rnn2.fit(X_train, \n",
    "        y_train, \n",
    "        epochs=15, \n",
    "        batch_size=64,\n",
    "        validation_data=(X_test, y_test),\n",
    "        callbacks=[EarlyStopping(monitor='val_loss', patience=2)]\n",
    "       )"
   ]
  },
  {
   "cell_type": "code",
   "execution_count": 52,
   "metadata": {},
   "outputs": [],
   "source": [
    "rnn2.save_weights('model_2_weights.h5')"
   ]
  },
  {
   "cell_type": "code",
   "execution_count": 51,
   "metadata": {},
   "outputs": [
    {
     "name": "stdout",
     "output_type": "stream",
     "text": [
      "dict_keys(['val_loss', 'val_accuracy', 'loss', 'accuracy'])\n"
     ]
    },
    {
     "data": {
      "text/plain": [
       "Text(0.5, 0, 'epochs')"
      ]
     },
     "execution_count": 51,
     "metadata": {},
     "output_type": "execute_result"
    },
    {
     "data": {
      "image/png": "[encoded data removed]",
      "text/plain": [
       "<Figure size 720x288 with 4 Axes>"
      ]
     },
     "metadata": {
      "needs_background": "light"
     },
     "output_type": "display_data"
    }
   ],
   "source": [
    "print(history2.history.keys())\n",
    "plt.figure(figsize=(10,4))\n",
    "plt.subplot(2,2,1)\n",
    "plt.plot(history2.history['accuracy'])\n",
    "\n",
    "plt.ylabel('Accuracy %')\n",
    "plt.title('Training')\n",
    "plt.subplot(2,2,2)\n",
    "plt.plot(history2.history['val_accuracy'])\n",
    "plt.title('Validation')\n",
    "\n",
    "plt.subplot(2,2,3)\n",
    "plt.plot(history2.history['loss'])\n",
    "plt.ylabel('Cross Entropy Training Loss')\n",
    "plt.xlabel('epochs')\n",
    "\n",
    "plt.subplot(2,2,4)\n",
    "plt.plot(history2.history['val_loss'])\n",
    "plt.xlabel('epochs')"
   ]
  },
  {
   "cell_type": "markdown",
   "metadata": {},
   "source": [
    "### RNN With Second Chain"
   ]
  },
  {
   "cell_type": "markdown",
   "metadata": {},
   "source": []
  },
  {
   "cell_type": "code",
   "execution_count": 11,
   "metadata": {},
   "outputs": [],
   "source": [
    "embedding_layer3 = Embedding(len(word_index) + 1,\n",
    "                            EMBED_SIZE,\n",
    "                            weights=[embedding_matrix],\n",
    "                            input_length=MAX_ART_LEN,\n",
    "                            trainable=False)"
   ]
  },
  {
   "cell_type": "code",
   "execution_count": 15,
   "metadata": {},
   "outputs": [
    {
     "name": "stdout",
     "output_type": "stream",
     "text": [
      "Model: \"sequential_2\"\n",
      "_________________________________________________________________\n",
      "Layer (type)                 Output Shape              Param #   \n",
      "=================================================================\n",
      "embedding_1 (Embedding)      (None, 868, 200)          2431400   \n",
      "_________________________________________________________________\n",
      "lstm_3 (LSTM)                (None, 868, 100)          120400    \n",
      "_________________________________________________________________\n",
      "lstm_4 (LSTM)                (None, 100)               80400     \n",
      "_________________________________________________________________\n",
      "dense_2 (Dense)              (None, 5)                 505       \n",
      "=================================================================\n",
      "Total params: 2,632,705\n",
      "Trainable params: 201,305\n",
      "Non-trainable params: 2,431,400\n",
      "_________________________________________________________________\n",
      "None\n"
     ]
    }
   ],
   "source": [
    "rnn3 = Sequential()\n",
    "rnn3.add(embedding_layer3)\n",
    "rnn3.add(LSTM(100,dropout=0.2, recurrent_dropout=0.2, return_sequences=True))\n",
    "rnn3.add(LSTM(100,dropout=0.2, recurrent_dropout=0.2))\n",
    "rnn3.add(Dense(NUM_CLASSES, activation='sigmoid'))\n",
    "rnn3.compile(loss='categorical_crossentropy', \n",
    "              optimizer='rmsprop', \n",
    "              metrics=['accuracy'])\n",
    "print(rnn3.summary())"
   ]
  },
  {
   "cell_type": "code",
   "execution_count": null,
   "metadata": {},
   "outputs": [],
   "source": [
    "SVG(model_to_dot(rnn3, show_shapes= True, show_layer_names=True, dpi=65).create(prog='dot', format='svg'))"
   ]
  },
  {
   "cell_type": "code",
   "execution_count": 16,
   "metadata": {},
   "outputs": [
    {
     "name": "stdout",
     "output_type": "stream",
     "text": [
      "Train on 11469 samples, validate on 2868 samples\n",
      "Epoch 1/15\n",
      "11469/11469 [==============================] - 290s 25ms/step - loss: 1.2208 - accuracy: 0.5101 - val_loss: 1.2166 - val_accuracy: 0.5087\n",
      "Epoch 2/15\n",
      "11469/11469 [==============================] - 291s 25ms/step - loss: 1.0685 - accuracy: 0.5641 - val_loss: 1.0175 - val_accuracy: 0.5837\n",
      "Epoch 3/15\n",
      "11469/11469 [==============================] - 289s 25ms/step - loss: 1.0713 - accuracy: 0.5681 - val_loss: 1.0789 - val_accuracy: 0.5642\n",
      "Epoch 4/15\n",
      "11469/11469 [==============================] - 287s 25ms/step - loss: 0.9890 - accuracy: 0.5929 - val_loss: 1.0043 - val_accuracy: 0.6046\n",
      "Epoch 5/15\n",
      "11469/11469 [==============================] - 287s 25ms/step - loss: 0.9777 - accuracy: 0.5987 - val_loss: 1.0966 - val_accuracy: 0.5544\n",
      "Epoch 6/15\n",
      "11469/11469 [==============================] - 291s 25ms/step - loss: 0.9434 - accuracy: 0.6110 - val_loss: 0.9366 - val_accuracy: 0.6210\n",
      "Epoch 7/15\n",
      "11469/11469 [==============================] - 291s 25ms/step - loss: 0.9193 - accuracy: 0.6227 - val_loss: 0.9401 - val_accuracy: 0.6070\n",
      "Epoch 8/15\n",
      "11469/11469 [==============================] - 294s 26ms/step - loss: 0.8996 - accuracy: 0.6294 - val_loss: 0.9778 - val_accuracy: 0.6220\n"
     ]
    },
    {
     "data": {
      "text/plain": [
       "<keras.callbacks.callbacks.History at 0x1baa6502e88>"
      ]
     },
     "execution_count": 16,
     "metadata": {},
     "output_type": "execute_result"
    }
   ],
   "source": [
    "history3 = rnn3.fit(X_train, \n",
    "        y_train, \n",
    "        epochs=15, \n",
    "        batch_size=64,\n",
    "        validation_data=(X_test, y_test),\n",
    "        callbacks=[EarlyStopping(monitor='val_loss', patience=2)]\n",
    "       )"
   ]
  },
  {
   "cell_type": "code",
   "execution_count": 17,
   "metadata": {},
   "outputs": [],
   "source": [
    "rnn3.save_weights('model_3_weights.h5')"
   ]
  },
  {
   "cell_type": "code",
   "execution_count": null,
   "metadata": {},
   "outputs": [],
   "source": [
    "print(history3.history.keys())\n",
    "plt.figure(figsize=(10,4))\n",
    "plt.subplot(2,2,1)\n",
    "plt.plot(history3.history['accuracy'])\n",
    "\n",
    "plt.ylabel('Accuracy %')\n",
    "plt.title('Training')\n",
    "plt.subplot(2,2,2)\n",
    "plt.plot(history3.history['val_accuracy'])\n",
    "plt.title('Validation')\n",
    "\n",
    "plt.subplot(2,2,3)\n",
    "plt.plot(history3.history['loss'])\n",
    "plt.ylabel('Cross Entropy Training Loss')\n",
    "plt.xlabel('epochs')\n",
    "\n",
    "plt.subplot(2,2,4)\n",
    "plt.plot(history3.history['val_loss'])\n",
    "plt.xlabel('epochs')"
   ]
  },
  {
   "cell_type": "markdown",
   "metadata": {},
   "source": [
    "## Exceptional Credit"
   ]
  },
  {
   "cell_type": "code",
   "execution_count": null,
   "metadata": {},
   "outputs": [],
   "source": []
  },
  {
   "cell_type": "code",
   "execution_count": null,
   "metadata": {},
   "outputs": [],
   "source": []
  },
  {
   "cell_type": "code",
   "execution_count": null,
   "metadata": {},
   "outputs": [],
   "source": []
  },
  {
   "cell_type": "code",
   "execution_count": null,
   "metadata": {},
   "outputs": [],
   "source": []
  },
  {
   "cell_type": "code",
   "execution_count": null,
   "metadata": {},
   "outputs": [],
   "source": []
  }
 ],
 "metadata": {
  "kernelspec": {
   "display_name": "Python 3",
   "language": "python",
   "name": "python3"
  },
  "language_info": {
   "codemirror_mode": {
    "name": "ipython",
    "version": 3
   },
   "file_extension": ".py",
   "mimetype": "text/x-python",
   "name": "python",
   "nbconvert_exporter": "python",
   "pygments_lexer": "ipython3",
   "version": "3.7.5"
  }
 },
 "nbformat": 4,
 "nbformat_minor": 2
}
